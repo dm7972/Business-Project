{
 "cells": [
  {
   "cell_type": "markdown",
   "metadata": {},
   "source": [
    "# <div style=\"text-align: right\">BEMM461 - Analytics and Visualisation for Managers and Consultants</div>\n",
    "# <div style=\"text-align: right\">CW2 : Final Visualisation Project</div>\n",
    "## <div style=\"text-align: right\">BY: DIVYA LAKSHMI MEESALA (730069197)</div>\n",
    "\n",
    "\n",
    "# <div style=\"text-align:center; text-decoration:underline;\">SUPPLY CHAIN ANALYSIS ON COSMETICS</div>\n",
    "\n",
    "\n",
    "\n",
    "## Introduction\n",
    "\n",
    "This dashboard provides a comprehensive overview of various aspects of the supply chain for a cosmetics company. It includes visualizations that track product sales, identify transportation patterns, assess manufacturing costs, and analyse defect rates. The dashboard also includes an interactive scatter plot that allows users to drill down into specific product categories to gain deeper insights. This dashboard can be used by managers and consultants to make informed decisions about optimizing the supply chain and improving overall business performance.\n",
    "\n",
    "## Table of Links\n",
    "### Table\n",
    "| Description | Link |\n",
    "| -- | -- |\n",
    "| Reflective blog | https://ele.exeter.ac.uk/mod/oublog/view.php?id=2698275 |\n",
    "| Chosen Dataset | https://www.kaggle.com/datasets/harshsingh2209/supply-chain-analysis/data |\n",
    "\n",
    "## Table of Contents\n",
    "\n",
    "1. Executive Summary\n",
    "2. Project Dashboard\n",
    "3. Background to the Project\n",
    "4. Articulation of Decision Making Process\n",
    "5. Review of Analytics Methods Chosen\n",
    "6. Review of Available Tools\n",
    "7. Review of Chosen Datasets \n",
    "8. Visualisation of Data with Accompanying Code\n",
    "9. Reflective Evaluation\n",
    "10. Conclusion\n"
   ]
  },
  {
   "cell_type": "markdown",
   "metadata": {},
   "source": [
    "## 1. Executive Summary\n",
    "\n",
    "This project delves into the complexities of supply chain management in the cosmetics industry. By analysing a dataset from a Fashion and Beauty start-up, we aim to illuminate trends and patterns that can drive data-driven decisions to enhance supply chain efficiency and profitability. This endeavour utilizes data visualization techniques, including Bubble charts, Heatmap, Error Bar plot, Box plots, 3D plot, and Scatter plot, to effectively represent the data's nuances. The Dash and Plotly frameworks provide the scaffolding for creating an interactive dashboard that dynamically displays insights based on user interactions.\n",
    "\n",
    " The analytics methods employed in this project include descriptive statistics, correlation analysis, and regression analysis. These methods enable us to summarize the data, identify relationships between variables, and model these relationships to make predictions. Additionally, the Pandas library serves as a powerful tool for data manipulation and analysis, while Dash facilitates the development of interactive web applications.\n",
    "\n",
    " The chosen datasets, namely sales data, inventory data, and transportation data, provide a comprehensive overview of the makeup supply chain. Sales data reflects product movement and revenue generation, inventory data tracks stock levels and availability, and transportation data outlines logistics and shipping routes. By analysing these datasets, we aim to gain insights into customer demand patterns, stock optimization strategies, and efficient transportation routes.\n",
    "\n",
    " The interactive dashboard, with its visualizations and dynamic filtering options, empowers stakeholders to gain immediate insights into the supply chain's performance. This centralized platform fosters informed decision-making, enabling the company to optimize inventory levels, reduce stockouts and overstocking, enhance customer service, and ultimately improve supply chain profitability."
   ]
  },
  {
   "cell_type": "markdown",
   "metadata": {},
   "source": [
    "## 2. Project Dashboard\n",
    "\n",
    "It makes use of the dash framework and plotly express library as well as it provides an interactive chart with significant information of the supply chain data. This dash board is designed in accordance to the prescribed principles of effective dashboard design which entails compressed arrangement and incorporation of the applicable visuals that facilitate quick decoding of data.\n",
    "\n",
    "### Monitor Level\n",
    "\n",
    "1. Bubble chart shows general trends in products sold over time by product type. The bubble size shows revenues while different colours correspond to the demographic composition of the customers, so that it is possible to immediately evaluate the general level of product sales and preferences of various groups of consumers of the supply chain.\n",
    "\n",
    "2. The heatmap presents the distribution of customers’ orders by transport mode and shows which carriers are in demand for particular client groups. Involves colour coding with warm colours indicating high customer orders, which is helpful information when planning transportations strategies.\n",
    "\n",
    "### Analyse Level\n",
    "\n",
    "3. Stock Levels versus an error bar plot. The impact of stock management on delivery is further explained by Lead Times. These error bars show the degree of variability across the carriers whereas the colour coding reveals the results of some of the measures including stock and lead-time.\n",
    "\n",
    "4. Box plot analyses the costs incurred in manufacturing with reference to shipping carriers and explores the differences in costs experienced between various shippers. Boxplot helps in finding outliers and areas for cost reduction.\n",
    "\n",
    "### Drill-to-Detail Level\n",
    "\n",
    "5. The 3D plot showing defect rates, shipping carriers, and manufacturing costs in three dimensions visualizes how these entities interact with one another. Colour coding of the points enables fast assessment of effect of these variables on the end product’s quality.\n",
    "\n",
    "6. Stock levels versus interactive scatter plot. Users can drill down on specific product types and examine the way stock levels relate to revenue generated. The users can discover more about the performance in some product categories like the consumer electronics.\n",
    "\n",
    "\n",
    "\n",
    "The monitor, analyse, drill to detail approach proposed by Wayne Eckerson informs the design of this four-layer dash board to meet the diverse requirements of the users. The decision-making tool for supply chain management will provide users with a means to track general trends across different areas, analyse particular segments, and gain access to low level statistics.\n"
   ]
  },
  {
   "cell_type": "code",
   "execution_count": 1,
   "metadata": {},
   "outputs": [
    {
     "name": "stderr",
     "output_type": "stream",
     "text": [
      "Address already in use\n",
      "Port 8050 is in use by another program. Either identify and stop that program, or start the server with a different port.\n"
     ]
    },
    {
     "ename": "AttributeError",
     "evalue": "'tuple' object has no attribute 'tb_frame'",
     "output_type": "error",
     "traceback": [
      "\u001b[0;31m---------------------------------------------------------------------------\u001b[0m",
      "\u001b[0;31mOSError\u001b[0m                                   Traceback (most recent call last)",
      "File \u001b[0;32m~/anaconda3/lib/python3.11/site-packages/werkzeug/serving.py:710\u001b[0m, in \u001b[0;36mBaseWSGIServer.__init__\u001b[0;34m(self, host, port, app, handler, passthrough_errors, ssl_context, fd)\u001b[0m\n\u001b[1;32m    709\u001b[0m \u001b[38;5;28;01mtry\u001b[39;00m:\n\u001b[0;32m--> 710\u001b[0m     \u001b[38;5;28mself\u001b[39m\u001b[38;5;241m.\u001b[39mserver_bind()\n\u001b[1;32m    711\u001b[0m     \u001b[38;5;28mself\u001b[39m\u001b[38;5;241m.\u001b[39mserver_activate()\n",
      "File \u001b[0;32m~/anaconda3/lib/python3.11/http/server.py:136\u001b[0m, in \u001b[0;36mHTTPServer.server_bind\u001b[0;34m(self)\u001b[0m\n\u001b[1;32m    135\u001b[0m \u001b[38;5;250m\u001b[39m\u001b[38;5;124;03m\"\"\"Override server_bind to store the server name.\"\"\"\u001b[39;00m\n\u001b[0;32m--> 136\u001b[0m socketserver\u001b[38;5;241m.\u001b[39mTCPServer\u001b[38;5;241m.\u001b[39mserver_bind(\u001b[38;5;28mself\u001b[39m)\n\u001b[1;32m    137\u001b[0m host, port \u001b[38;5;241m=\u001b[39m \u001b[38;5;28mself\u001b[39m\u001b[38;5;241m.\u001b[39mserver_address[:\u001b[38;5;241m2\u001b[39m]\n",
      "File \u001b[0;32m~/anaconda3/lib/python3.11/socketserver.py:472\u001b[0m, in \u001b[0;36mTCPServer.server_bind\u001b[0;34m(self)\u001b[0m\n\u001b[1;32m    471\u001b[0m     \u001b[38;5;28mself\u001b[39m\u001b[38;5;241m.\u001b[39msocket\u001b[38;5;241m.\u001b[39msetsockopt(socket\u001b[38;5;241m.\u001b[39mSOL_SOCKET, socket\u001b[38;5;241m.\u001b[39mSO_REUSEPORT, \u001b[38;5;241m1\u001b[39m)\n\u001b[0;32m--> 472\u001b[0m \u001b[38;5;28mself\u001b[39m\u001b[38;5;241m.\u001b[39msocket\u001b[38;5;241m.\u001b[39mbind(\u001b[38;5;28mself\u001b[39m\u001b[38;5;241m.\u001b[39mserver_address)\n\u001b[1;32m    473\u001b[0m \u001b[38;5;28mself\u001b[39m\u001b[38;5;241m.\u001b[39mserver_address \u001b[38;5;241m=\u001b[39m \u001b[38;5;28mself\u001b[39m\u001b[38;5;241m.\u001b[39msocket\u001b[38;5;241m.\u001b[39mgetsockname()\n",
      "\u001b[0;31mOSError\u001b[0m: [Errno 48] Address already in use",
      "\nDuring handling of the above exception, another exception occurred:\n",
      "\u001b[0;31mSystemExit\u001b[0m                                Traceback (most recent call last)",
      "    \u001b[0;31m[... skipping hidden 1 frame]\u001b[0m\n",
      "Cell \u001b[0;32mIn[1], line 107\u001b[0m\n\u001b[1;32m    106\u001b[0m \u001b[38;5;28;01mif\u001b[39;00m \u001b[38;5;18m__name__\u001b[39m \u001b[38;5;241m==\u001b[39m \u001b[38;5;124m'\u001b[39m\u001b[38;5;124m__main__\u001b[39m\u001b[38;5;124m'\u001b[39m:\n\u001b[0;32m--> 107\u001b[0m     app\u001b[38;5;241m.\u001b[39mrun_server(debug\u001b[38;5;241m=\u001b[39m\u001b[38;5;28;01mTrue\u001b[39;00m)\n",
      "File \u001b[0;32m~/anaconda3/lib/python3.11/site-packages/dash/dash.py:2175\u001b[0m, in \u001b[0;36mDash.run_server\u001b[0;34m(self, *args, **kwargs)\u001b[0m\n\u001b[1;32m   2170\u001b[0m \u001b[38;5;250m\u001b[39m\u001b[38;5;124;03m\"\"\"`run_server` is a deprecated alias of `run` and may be removed in a\u001b[39;00m\n\u001b[1;32m   2171\u001b[0m \u001b[38;5;124;03mfuture version. We recommend using `app.run` instead.\u001b[39;00m\n\u001b[1;32m   2172\u001b[0m \n\u001b[1;32m   2173\u001b[0m \u001b[38;5;124;03mSee `app.run` for usage information.\u001b[39;00m\n\u001b[1;32m   2174\u001b[0m \u001b[38;5;124;03m\"\"\"\u001b[39;00m\n\u001b[0;32m-> 2175\u001b[0m \u001b[38;5;28mself\u001b[39m\u001b[38;5;241m.\u001b[39mrun(\u001b[38;5;241m*\u001b[39margs, \u001b[38;5;241m*\u001b[39m\u001b[38;5;241m*\u001b[39mkwargs)\n",
      "File \u001b[0;32m~/anaconda3/lib/python3.11/site-packages/dash/dash.py:2066\u001b[0m, in \u001b[0;36mDash.run\u001b[0;34m(self, host, port, proxy, debug, jupyter_mode, jupyter_width, jupyter_height, jupyter_server_url, dev_tools_ui, dev_tools_props_check, dev_tools_serve_dev_bundles, dev_tools_hot_reload, dev_tools_hot_reload_interval, dev_tools_hot_reload_watch_interval, dev_tools_hot_reload_max_retry, dev_tools_silence_routes_logging, dev_tools_prune_errors, **flask_run_options)\u001b[0m\n\u001b[1;32m   2065\u001b[0m \u001b[38;5;28;01mif\u001b[39;00m jupyter_dash\u001b[38;5;241m.\u001b[39mactive:\n\u001b[0;32m-> 2066\u001b[0m     jupyter_dash\u001b[38;5;241m.\u001b[39mrun_app(\n\u001b[1;32m   2067\u001b[0m         \u001b[38;5;28mself\u001b[39m,\n\u001b[1;32m   2068\u001b[0m         mode\u001b[38;5;241m=\u001b[39mjupyter_mode,\n\u001b[1;32m   2069\u001b[0m         width\u001b[38;5;241m=\u001b[39mjupyter_width,\n\u001b[1;32m   2070\u001b[0m         height\u001b[38;5;241m=\u001b[39mjupyter_height,\n\u001b[1;32m   2071\u001b[0m         host\u001b[38;5;241m=\u001b[39mhost,\n\u001b[1;32m   2072\u001b[0m         port\u001b[38;5;241m=\u001b[39mport,\n\u001b[1;32m   2073\u001b[0m         server_url\u001b[38;5;241m=\u001b[39mjupyter_server_url,\n\u001b[1;32m   2074\u001b[0m     )\n\u001b[1;32m   2075\u001b[0m \u001b[38;5;28;01melse\u001b[39;00m:\n",
      "File \u001b[0;32m~/anaconda3/lib/python3.11/site-packages/dash/_jupyter.py:329\u001b[0m, in \u001b[0;36mJupyterDash.run_app\u001b[0;34m(self, app, mode, width, height, host, port, server_url)\u001b[0m\n\u001b[1;32m    327\u001b[0m err_q \u001b[38;5;241m=\u001b[39m queue\u001b[38;5;241m.\u001b[39mQueue()\n\u001b[0;32m--> 329\u001b[0m server \u001b[38;5;241m=\u001b[39m make_server(host, port, app\u001b[38;5;241m.\u001b[39mserver, threaded\u001b[38;5;241m=\u001b[39m\u001b[38;5;28;01mTrue\u001b[39;00m, processes\u001b[38;5;241m=\u001b[39m\u001b[38;5;241m0\u001b[39m)\n\u001b[1;32m    330\u001b[0m logging\u001b[38;5;241m.\u001b[39mgetLogger(\u001b[38;5;124m\"\u001b[39m\u001b[38;5;124mwerkzeug\u001b[39m\u001b[38;5;124m\"\u001b[39m)\u001b[38;5;241m.\u001b[39msetLevel(logging\u001b[38;5;241m.\u001b[39mERROR)\n",
      "File \u001b[0;32m~/anaconda3/lib/python3.11/site-packages/werkzeug/serving.py:877\u001b[0m, in \u001b[0;36mmake_server\u001b[0;34m(host, port, app, threaded, processes, request_handler, passthrough_errors, ssl_context, fd)\u001b[0m\n\u001b[1;32m    876\u001b[0m \u001b[38;5;28;01mif\u001b[39;00m threaded:\n\u001b[0;32m--> 877\u001b[0m     \u001b[38;5;28;01mreturn\u001b[39;00m ThreadedWSGIServer(\n\u001b[1;32m    878\u001b[0m         host, port, app, request_handler, passthrough_errors, ssl_context, fd\u001b[38;5;241m=\u001b[39mfd\n\u001b[1;32m    879\u001b[0m     )\n\u001b[1;32m    881\u001b[0m \u001b[38;5;28;01mif\u001b[39;00m processes \u001b[38;5;241m>\u001b[39m \u001b[38;5;241m1\u001b[39m:\n",
      "File \u001b[0;32m~/anaconda3/lib/python3.11/site-packages/werkzeug/serving.py:733\u001b[0m, in \u001b[0;36mBaseWSGIServer.__init__\u001b[0;34m(self, host, port, app, handler, passthrough_errors, ssl_context, fd)\u001b[0m\n\u001b[1;32m    727\u001b[0m             \u001b[38;5;28mprint\u001b[39m(\n\u001b[1;32m    728\u001b[0m                 \u001b[38;5;124m\"\u001b[39m\u001b[38;5;124mOn macOS, try disabling the \u001b[39m\u001b[38;5;124m'\u001b[39m\u001b[38;5;124mAirPlay Receiver\u001b[39m\u001b[38;5;124m'\u001b[39m\u001b[38;5;124m service\u001b[39m\u001b[38;5;124m\"\u001b[39m\n\u001b[1;32m    729\u001b[0m                 \u001b[38;5;124m\"\u001b[39m\u001b[38;5;124m from System Preferences -> Sharing.\u001b[39m\u001b[38;5;124m\"\u001b[39m,\n\u001b[1;32m    730\u001b[0m                 file\u001b[38;5;241m=\u001b[39msys\u001b[38;5;241m.\u001b[39mstderr,\n\u001b[1;32m    731\u001b[0m             )\n\u001b[0;32m--> 733\u001b[0m     sys\u001b[38;5;241m.\u001b[39mexit(\u001b[38;5;241m1\u001b[39m)\n\u001b[1;32m    734\u001b[0m \u001b[38;5;28;01mexcept\u001b[39;00m \u001b[38;5;167;01mBaseException\u001b[39;00m:\n",
      "\u001b[0;31mSystemExit\u001b[0m: 1",
      "\nDuring handling of the above exception, another exception occurred:\n",
      "\u001b[0;31mAttributeError\u001b[0m                            Traceback (most recent call last)",
      "    \u001b[0;31m[... skipping hidden 1 frame]\u001b[0m\n",
      "File \u001b[0;32m~/anaconda3/lib/python3.11/site-packages/IPython/core/interactiveshell.py:2092\u001b[0m, in \u001b[0;36mInteractiveShell.showtraceback\u001b[0;34m(self, exc_tuple, filename, tb_offset, exception_only, running_compiled_code)\u001b[0m\n\u001b[1;32m   2089\u001b[0m \u001b[38;5;28;01mif\u001b[39;00m exception_only:\n\u001b[1;32m   2090\u001b[0m     stb \u001b[38;5;241m=\u001b[39m [\u001b[38;5;124m'\u001b[39m\u001b[38;5;124mAn exception has occurred, use \u001b[39m\u001b[38;5;124m%\u001b[39m\u001b[38;5;124mtb to see \u001b[39m\u001b[38;5;124m'\u001b[39m\n\u001b[1;32m   2091\u001b[0m            \u001b[38;5;124m'\u001b[39m\u001b[38;5;124mthe full traceback.\u001b[39m\u001b[38;5;130;01m\\n\u001b[39;00m\u001b[38;5;124m'\u001b[39m]\n\u001b[0;32m-> 2092\u001b[0m     stb\u001b[38;5;241m.\u001b[39mextend(\u001b[38;5;28mself\u001b[39m\u001b[38;5;241m.\u001b[39mInteractiveTB\u001b[38;5;241m.\u001b[39mget_exception_only(etype,\n\u001b[1;32m   2093\u001b[0m                                                      value))\n\u001b[1;32m   2094\u001b[0m \u001b[38;5;28;01melse\u001b[39;00m:\n\u001b[1;32m   2095\u001b[0m     \u001b[38;5;28;01mtry\u001b[39;00m:\n\u001b[1;32m   2096\u001b[0m         \u001b[38;5;66;03m# Exception classes can customise their traceback - we\u001b[39;00m\n\u001b[1;32m   2097\u001b[0m         \u001b[38;5;66;03m# use this in IPython.parallel for exceptions occurring\u001b[39;00m\n\u001b[1;32m   2098\u001b[0m         \u001b[38;5;66;03m# in the engines. This should return a list of strings.\u001b[39;00m\n",
      "File \u001b[0;32m~/anaconda3/lib/python3.11/site-packages/IPython/core/ultratb.py:644\u001b[0m, in \u001b[0;36mListTB.get_exception_only\u001b[0;34m(self, etype, value)\u001b[0m\n\u001b[1;32m    636\u001b[0m \u001b[38;5;28;01mdef\u001b[39;00m \u001b[38;5;21mget_exception_only\u001b[39m(\u001b[38;5;28mself\u001b[39m, etype, value):\n\u001b[1;32m    637\u001b[0m \u001b[38;5;250m    \u001b[39m\u001b[38;5;124;03m\"\"\"Only print the exception type and message, without a traceback.\u001b[39;00m\n\u001b[1;32m    638\u001b[0m \n\u001b[1;32m    639\u001b[0m \u001b[38;5;124;03m    Parameters\u001b[39;00m\n\u001b[0;32m   (...)\u001b[0m\n\u001b[1;32m    642\u001b[0m \u001b[38;5;124;03m    value : exception value\u001b[39;00m\n\u001b[1;32m    643\u001b[0m \u001b[38;5;124;03m    \"\"\"\u001b[39;00m\n\u001b[0;32m--> 644\u001b[0m     \u001b[38;5;28;01mreturn\u001b[39;00m ListTB\u001b[38;5;241m.\u001b[39mstructured_traceback(\u001b[38;5;28mself\u001b[39m, etype, value)\n",
      "File \u001b[0;32m~/anaconda3/lib/python3.11/site-packages/IPython/core/ultratb.py:511\u001b[0m, in \u001b[0;36mListTB.structured_traceback\u001b[0;34m(self, etype, evalue, etb, tb_offset, context)\u001b[0m\n\u001b[1;32m    508\u001b[0m     chained_exc_ids\u001b[38;5;241m.\u001b[39madd(\u001b[38;5;28mid\u001b[39m(exception[\u001b[38;5;241m1\u001b[39m]))\n\u001b[1;32m    509\u001b[0m     chained_exceptions_tb_offset \u001b[38;5;241m=\u001b[39m \u001b[38;5;241m0\u001b[39m\n\u001b[1;32m    510\u001b[0m     out_list \u001b[38;5;241m=\u001b[39m (\n\u001b[0;32m--> 511\u001b[0m         \u001b[38;5;28mself\u001b[39m\u001b[38;5;241m.\u001b[39mstructured_traceback(\n\u001b[1;32m    512\u001b[0m             etype, evalue, (etb, chained_exc_ids),\n\u001b[1;32m    513\u001b[0m             chained_exceptions_tb_offset, context)\n\u001b[1;32m    514\u001b[0m         \u001b[38;5;241m+\u001b[39m chained_exception_message\n\u001b[1;32m    515\u001b[0m         \u001b[38;5;241m+\u001b[39m out_list)\n\u001b[1;32m    517\u001b[0m \u001b[38;5;28;01mreturn\u001b[39;00m out_list\n",
      "File \u001b[0;32m~/anaconda3/lib/python3.11/site-packages/IPython/core/ultratb.py:1310\u001b[0m, in \u001b[0;36mAutoFormattedTB.structured_traceback\u001b[0;34m(self, etype, value, tb, tb_offset, number_of_lines_of_context)\u001b[0m\n\u001b[1;32m   1308\u001b[0m \u001b[38;5;28;01melse\u001b[39;00m:\n\u001b[1;32m   1309\u001b[0m     \u001b[38;5;28mself\u001b[39m\u001b[38;5;241m.\u001b[39mtb \u001b[38;5;241m=\u001b[39m tb\n\u001b[0;32m-> 1310\u001b[0m \u001b[38;5;28;01mreturn\u001b[39;00m FormattedTB\u001b[38;5;241m.\u001b[39mstructured_traceback(\n\u001b[1;32m   1311\u001b[0m     \u001b[38;5;28mself\u001b[39m, etype, value, tb, tb_offset, number_of_lines_of_context)\n",
      "File \u001b[0;32m~/anaconda3/lib/python3.11/site-packages/IPython/core/ultratb.py:1199\u001b[0m, in \u001b[0;36mFormattedTB.structured_traceback\u001b[0;34m(self, etype, value, tb, tb_offset, number_of_lines_of_context)\u001b[0m\n\u001b[1;32m   1196\u001b[0m mode \u001b[38;5;241m=\u001b[39m \u001b[38;5;28mself\u001b[39m\u001b[38;5;241m.\u001b[39mmode\n\u001b[1;32m   1197\u001b[0m \u001b[38;5;28;01mif\u001b[39;00m mode \u001b[38;5;129;01min\u001b[39;00m \u001b[38;5;28mself\u001b[39m\u001b[38;5;241m.\u001b[39mverbose_modes:\n\u001b[1;32m   1198\u001b[0m     \u001b[38;5;66;03m# Verbose modes need a full traceback\u001b[39;00m\n\u001b[0;32m-> 1199\u001b[0m     \u001b[38;5;28;01mreturn\u001b[39;00m VerboseTB\u001b[38;5;241m.\u001b[39mstructured_traceback(\n\u001b[1;32m   1200\u001b[0m         \u001b[38;5;28mself\u001b[39m, etype, value, tb, tb_offset, number_of_lines_of_context\n\u001b[1;32m   1201\u001b[0m     )\n\u001b[1;32m   1202\u001b[0m \u001b[38;5;28;01melif\u001b[39;00m mode \u001b[38;5;241m==\u001b[39m \u001b[38;5;124m'\u001b[39m\u001b[38;5;124mMinimal\u001b[39m\u001b[38;5;124m'\u001b[39m:\n\u001b[1;32m   1203\u001b[0m     \u001b[38;5;28;01mreturn\u001b[39;00m ListTB\u001b[38;5;241m.\u001b[39mget_exception_only(\u001b[38;5;28mself\u001b[39m, etype, value)\n",
      "File \u001b[0;32m~/anaconda3/lib/python3.11/site-packages/IPython/core/ultratb.py:1052\u001b[0m, in \u001b[0;36mVerboseTB.structured_traceback\u001b[0;34m(self, etype, evalue, etb, tb_offset, number_of_lines_of_context)\u001b[0m\n\u001b[1;32m   1043\u001b[0m \u001b[38;5;28;01mdef\u001b[39;00m \u001b[38;5;21mstructured_traceback\u001b[39m(\n\u001b[1;32m   1044\u001b[0m     \u001b[38;5;28mself\u001b[39m,\n\u001b[1;32m   1045\u001b[0m     etype: \u001b[38;5;28mtype\u001b[39m,\n\u001b[0;32m   (...)\u001b[0m\n\u001b[1;32m   1049\u001b[0m     number_of_lines_of_context: \u001b[38;5;28mint\u001b[39m \u001b[38;5;241m=\u001b[39m \u001b[38;5;241m5\u001b[39m,\n\u001b[1;32m   1050\u001b[0m ):\n\u001b[1;32m   1051\u001b[0m \u001b[38;5;250m    \u001b[39m\u001b[38;5;124;03m\"\"\"Return a nice text document describing the traceback.\"\"\"\u001b[39;00m\n\u001b[0;32m-> 1052\u001b[0m     formatted_exception \u001b[38;5;241m=\u001b[39m \u001b[38;5;28mself\u001b[39m\u001b[38;5;241m.\u001b[39mformat_exception_as_a_whole(etype, evalue, etb, number_of_lines_of_context,\n\u001b[1;32m   1053\u001b[0m                                                            tb_offset)\n\u001b[1;32m   1055\u001b[0m     colors \u001b[38;5;241m=\u001b[39m \u001b[38;5;28mself\u001b[39m\u001b[38;5;241m.\u001b[39mColors  \u001b[38;5;66;03m# just a shorthand + quicker name lookup\u001b[39;00m\n\u001b[1;32m   1056\u001b[0m     colorsnormal \u001b[38;5;241m=\u001b[39m colors\u001b[38;5;241m.\u001b[39mNormal  \u001b[38;5;66;03m# used a lot\u001b[39;00m\n",
      "File \u001b[0;32m~/anaconda3/lib/python3.11/site-packages/IPython/core/ultratb.py:953\u001b[0m, in \u001b[0;36mVerboseTB.format_exception_as_a_whole\u001b[0;34m(self, etype, evalue, etb, number_of_lines_of_context, tb_offset)\u001b[0m\n\u001b[1;32m    950\u001b[0m \u001b[38;5;28;01massert\u001b[39;00m \u001b[38;5;28misinstance\u001b[39m(tb_offset, \u001b[38;5;28mint\u001b[39m)\n\u001b[1;32m    951\u001b[0m head \u001b[38;5;241m=\u001b[39m \u001b[38;5;28mself\u001b[39m\u001b[38;5;241m.\u001b[39mprepare_header(etype, \u001b[38;5;28mself\u001b[39m\u001b[38;5;241m.\u001b[39mlong_header)\n\u001b[1;32m    952\u001b[0m records \u001b[38;5;241m=\u001b[39m (\n\u001b[0;32m--> 953\u001b[0m     \u001b[38;5;28mself\u001b[39m\u001b[38;5;241m.\u001b[39mget_records(etb, number_of_lines_of_context, tb_offset) \u001b[38;5;28;01mif\u001b[39;00m etb \u001b[38;5;28;01melse\u001b[39;00m []\n\u001b[1;32m    954\u001b[0m )\n\u001b[1;32m    956\u001b[0m frames \u001b[38;5;241m=\u001b[39m []\n\u001b[1;32m    957\u001b[0m skipped \u001b[38;5;241m=\u001b[39m \u001b[38;5;241m0\u001b[39m\n",
      "File \u001b[0;32m~/anaconda3/lib/python3.11/site-packages/IPython/core/ultratb.py:1021\u001b[0m, in \u001b[0;36mVerboseTB.get_records\u001b[0;34m(self, etb, number_of_lines_of_context, tb_offset)\u001b[0m\n\u001b[1;32m   1019\u001b[0m \u001b[38;5;28;01mwhile\u001b[39;00m cf \u001b[38;5;129;01mis\u001b[39;00m \u001b[38;5;129;01mnot\u001b[39;00m \u001b[38;5;28;01mNone\u001b[39;00m:\n\u001b[1;32m   1020\u001b[0m     \u001b[38;5;28;01mtry\u001b[39;00m:\n\u001b[0;32m-> 1021\u001b[0m         source_file \u001b[38;5;241m=\u001b[39m inspect\u001b[38;5;241m.\u001b[39mgetsourcefile(etb\u001b[38;5;241m.\u001b[39mtb_frame)\n\u001b[1;32m   1022\u001b[0m         lines, first \u001b[38;5;241m=\u001b[39m inspect\u001b[38;5;241m.\u001b[39mgetsourcelines(etb\u001b[38;5;241m.\u001b[39mtb_frame)\n\u001b[1;32m   1023\u001b[0m     \u001b[38;5;28;01mexcept\u001b[39;00m \u001b[38;5;167;01mOSError\u001b[39;00m:\n",
      "\u001b[0;31mAttributeError\u001b[0m: 'tuple' object has no attribute 'tb_frame'"
     ]
    }
   ],
   "source": [
    "# Import necessary libraries\n",
    "import dash\n",
    "from dash import dcc, html\n",
    "from dash.dependencies import Input, Output\n",
    "import plotly.express as px\n",
    "import pandas as pd\n",
    "\n",
    "# Load the supply chain data\n",
    "df = pd.read_csv(\"supply_chain_data.csv\")\n",
    "\n",
    "# Initialize the Dash app\n",
    "app = dash.Dash(__name__)\n",
    "\n",
    "color_map = {'Category1': 'pink', 'Category2': 'violet', 'Category3': 'red'}\n",
    "\n",
    "# layout of the app\n",
    "app.layout = html.Div([\n",
    "    html.H1(\"SUPPLY CHAIN ANALYSIS ON COSMETICS DASHBOARD\", style={'textAlign': 'center', 'color': '#003366'}),\n",
    "    \n",
    "    # Bubble chart for Number of products sold over time\n",
    "    dcc.Graph(\n",
    "        id='bubble chart',\n",
    "        figure=px.scatter(df, x='Product type', y='Number of products sold', size='Revenue generated',\n",
    "                          color='Customer demographics', color_discrete_map=color_map,\n",
    "                          title='Number of Products Sold Over Time')\n",
    "    ),\n",
    "\n",
    "    # heatmap for Customer demographics and Transportation modes distribution\n",
    "    dcc.Graph(\n",
    "        id='heatmap',\n",
    "        figure=px.imshow(df.groupby(['Customer demographics', 'Transportation modes']).size().unstack(),\n",
    "                     labels=dict(x='Transportation modes', y='Customer demographics', color='Count'),\n",
    "                     title='Customer Demographics and Transportation Modes Distribution',\n",
    "                     color_continuous_scale=[\n",
    "                         (0, 'red'),\n",
    "                         (0.5, 'blue'),\n",
    "                         (1, 'pink')\n",
    "                     ])\n",
    "),\n",
    "\n",
    "    # Error Bar plot for Stock levels vs. Lead times\n",
    "    dcc.Graph(\n",
    "        id='error bars',\n",
    "        figure=px.scatter(df, x='Stock levels', y='Lead times', error_y='Order quantities',\n",
    "                      title='Stock levels vs. Lead times',\n",
    "                      color='Shipping carriers',  \n",
    "                      color_discrete_sequence=px.colors.qualitative.Set1 \n",
    "                      )\n",
    "),\n",
    "\n",
    "    # Box plot for Manufacturing costs by Shipping carriers\n",
    "    dcc.Graph(\n",
    "        id='box plot',\n",
    "        figure=px.box(df, x='Shipping carriers', y='Manufacturing costs',\n",
    "                  title='Manufacturing Costs by Shipping Carriers',\n",
    "                  color='Shipping carriers',  \n",
    "                  color_discrete_map={'Shipping carriers': 'purple', \n",
    "                                      'Carrier1': 'blue',\n",
    "                                      'Carrier2': 'green',\n",
    "                                      'Carrier3': 'orange'}\n",
    "                  )\n",
    "),\n",
    "\n",
    "    # 3D plot for Defect rates\n",
    "dcc.Graph(\n",
    "    id='3d plot',\n",
    "    figure=px.scatter_3d(df, x='Defect rates', y='Shipping carriers', z='Manufacturing costs',\n",
    "                         title='Defect Rates, Shipping Carriers, and Manufacturing Costs',\n",
    "                         color='Shipping carriers', \n",
    "                         color_discrete_map={'Shipping carriers': 'orange'},\n",
    "                         symbol='Manufacturing costs',  \n",
    "                         symbol_sequence=['circle'],  \n",
    "                         symbol_map={'Manufacturing costs': 'square'},\n",
    "                         opacity=0.8 \n",
    "                         )\n",
    "),\n",
    "\n",
    "    # Scatter plot for Stock levels vs. Revenue generated (Interactive)\n",
    "    dcc.Graph(\n",
    "        id='scatter plot',\n",
    "        figure={}\n",
    "    ),\n",
    "\n",
    "    # Dropdown for selecting Product types\n",
    "    dcc.Dropdown(\n",
    "        id='product-type dropdown',\n",
    "        options=[{'label': product_type, 'value': product_type} for product_type in df['Product type'].unique()],\n",
    "        multi=True,\n",
    "        value=df['Product type'].unique()\n",
    "    ),\n",
    "])\n",
    "\n",
    "# callback function to update Scatter plot based on selected Product types\n",
    "@app.callback(\n",
    "    Output('scatter plot', 'figure'),\n",
    "    [Input('product-type dropdown', 'value')]\n",
    ")\n",
    "def update_scatter_plot(selected_product_types):\n",
    "    filtered_df = df[df['Product type'].isin(selected_product_types)]\n",
    "    fig = px.scatter(filtered_df, x='Stock levels', y='Revenue generated', color='Product type',\n",
    "                     title='Stock levels vs. Revenue generated (Selected Product Types)',\n",
    "                     labels={'Stock levels': 'Stock Levels', 'Revenue generated': 'Revenue Generated'})\n",
    "    return fig\n",
    "\n",
    "# Run the app\n",
    "if __name__ == '__main__':\n",
    "    app.run_server(debug=True)"
   ]
  },
  {
   "cell_type": "markdown",
   "metadata": {},
   "source": [
    "## 3. Background to the Project\n",
    "\n",
    "The cosmetics industry operates in a highly dynamic and competitive environment, which requires a well-designed and efficient supply chain to meet the ever-evolving needs of customers In that in this context, the project focuses on harnessing the power of data analytics to gather valuable insights that can significantly impact decision-making in the supply chain of cosmetic products. Delving into the complexities of supply chain data aims to identify opportunities for optimization, cost reduction and overall performance enhancement In an industry where trends and customer preferences are rapidly evolving, a data-driven approach is essential for organizations to keep up quickly and responsively. This project seeks to uncover key patterns and trends, and provide actionable intelligence for stakeholders striving to excel in the rehabilitation industry.\n"
   ]
  },
  {
   "cell_type": "markdown",
   "metadata": {},
   "source": [
    "## 4. Articulation of Decision Making Process\n",
    " \n",
    "The main focus of the project is to enhance the decision-making process within the cosmetics supply chain through the development of a comprehensive and visually informative dashboard. This involves various facets of supply chain management, including inventory optimization, transportation efficiency, cost reduction, and customer satisfaction improvement. The project utilizes Python, Dash, and Plotly to create an interactive dashboard that provides insights into these critical aspects of the cosmetics industry.\n",
    "\n",
    "In the reflective evaluation blog post 12 on 11 December 2023, Divya Lakshmi Meesala. Refer to blog further details [https://ele.exeter.ac.uk/mod/oublog/viewpost.php?post=34595] discussed key strengths, challenges faced, and lessons learned throughout the project journey. The emphasis was placed on the importance of data quality, thorough cleaning, and preparation. The impact of exploratory data analysis (EDA) in uncovering hidden insights and the interactive nature of visualizations in enhancing data understanding were highlighted. Future directions were also considered, suggesting advanced statistical techniques and real-time data integration as potential avenues for further refinement.\n",
    "\n"
   ]
  },
  {
   "cell_type": "markdown",
   "metadata": {},
   "source": [
    "## 5. Review of Analytics Methods Chosen\n",
    "The development of the dashboard employed a combination of analytics methods to extract meaningful insights from the supply chain data:\n",
    "\n",
    "### Exploratory Data Analysis (EDA): \n",
    "Edward Tufte's principle of integrity and honesty in visualizations is essential in the context of exploratory data analysis (EDA), ensuring that data representations accurately convey information without introducing distortions or biases (Tufte, 1983). The provided supply chain dashboard code exemplifies these principles through careful selection and design of visualizations, aligning with the goals of EDA.\n",
    "\n",
    "In EDA, contextual understanding is paramount, and visualizations should provide a clear narrative. The Box Plot illustrating manufacturing costs by shipping carriers avoids chart junk—unnecessary embellishments that can distract from the core message (Tufte, 2006). By choosing a clear and concise representation, the code adheres to the principle of maximizing the data-ink ratio, ensuring that the ink used in the visualization effectively communicates valuable information (Tufte, 1983).\n",
    "\n",
    "### Data Visualization: \n",
    "The dashboard exhibits a thoughtful composition of multiple graphs, each serving a distinct purpose. The inclusion of a Bubble Chart, Heatmap, Error Bar Plot, Box Plot, 3D Plot, and Interactive Scatter Plot contributes to the layering of information. This approach allows users to engage with the data at various levels, starting from high-level monitoring and progressively moving towards more detailed analyses. The hierarchical arrangement of visualizations ensures a structured and intuitive exploration of the supply chain data.\n",
    "\n",
    "Furthermore, the separation of visualizations into distinct graphs within the dashboard is evident. Each graph is designed to address specific facets of the supply chain data, preventing information overload. The clarity in separating visual displays, such as the Bubble Chart and Heatmap for consolidated views, and the Error Bar Plot and Box Plot for detailed insights, facilitates focused interpretation. Clear axes, labels, and consistent styling contribute to the effective separation of information, reducing the likelihood of misinterpretation .\n",
    "\n",
    "\n",
    "### Data Filtering: \n",
    "Using different data filtering techniques, various subsets of data were focused on including specific product types and regional shipping zones for deeper analysis. An additional dimension of separation is introduced through interactive elements, exemplified by the Interactive Scatter Plot and dropdown menu. This feature provides users with a segregated space to perform user-driven detailed analyses based on selected product types. The interactive components contribute to a clear separation of user-driven exploration, enhancing the overall user experience."
   ]
  },
  {
   "cell_type": "markdown",
   "metadata": {},
   "source": [
    "## 6. Review of Available Tools\n",
    "\n",
    "The project uses a wide array of analytical, visualizing, and dashboard building tools and technologies. These tools include:\n",
    "\n",
    "### Python: \n",
    "The main computer programming language is Python that offers strong basis for data processing, analytics, and representation. Large sizes of its libraries and packages makes it possible to easily clean, feature engineer, and train models on datasets.\n",
    "\n",
    "### Python Libraries: \n",
    "\n",
    "### A) Dash:\n",
    "DASH is a specially constructed python framework for producing engaging web apps. This helps in bringing together data visualizations into an easily navigable dashboard.\n",
    "### B) Plotly Express: \n",
    "Plotly Express is an easy-to-use high level abstraction library within the Plotly ecosystem for plotting interactive graphs. There are numerous chart types, customizations, and type of data transformation.\n",
    "\n",
    "### C) Pandas: \n",
    "Data manipulation and analysis are the main functions of a library called Pandas in Python. The tool enables you to cleanse, convert, and explore data related to the supply chain in an effortless way."
   ]
  },
  {
   "cell_type": "markdown",
   "metadata": {},
   "source": [
    "## 7. Review of Chosen Datasets\n",
    "\n",
    "The Datasets was chosen from Kaggle which contains 101 rows and 24 Columns. The dashboard runs through a comprehensive supply chain dataset that goes deeper into the various supply chain processes, providing a detailed overview of key features:\n",
    "\n",
    "### Product Information:\n",
    "\n",
    "1. Sales volume: capture demand and supply trends over time.\n",
    "2. Revenues: To provide insight into the financial performance associated with sales.\n",
    "3. Product Type Information: Classifying products and facilitating micro-analysis of different types of products.\n",
    "\n",
    "### Customer Demographics and Delivery Information:\n",
    "\n",
    "1. Gender Segmentation: Enables gender segmentation of customers, an important element for targeted marketing.\n",
    "2. Transportation methods: An examination of the transportation methods used in the logistics process, which affect delivery efficiency and cost.\n",
    "\n",
    "### Inventory Information:\n",
    "\n",
    "1. Stock Levels: Important for effective inventory management and ensuring availability of raw materials.\n",
    "2. Lead times: refers to the time it takes to reload, an important consideration in supply chain management.\n",
    "3. Order volume: Data on the number of orders placed during a specific period.\n",
    "\n",
    "### Product Information:\n",
    "\n",
    "1. Construction costing by shippers: Enables cost-focused analysis, by helping to make informed decisions about shippers.\n",
    "2. Product Characteristics Data: Facilitates comparison of manufacturing costs across products.\n",
    "\n",
    "### Quality Control Information:\n",
    "\n",
    "1. Defect rates: Defect rates shed light on product quality, and are essential for maintaining high standards.\n",
    "2. Product Differences and Shipping Location: To gain insights into the differences between products and shipping locations\n",
    "\n",
    "The integration of these diverse datasets in the dashboard allows a complete exploration of the entire supply chain ecosystem. The interactive components and visualizations provide a user-friendly interface for in-depth analysis and decision support in the cosmetics supply chain context. The inclusion of gander delivery and transportation adds a new layer of insight, contributing to a more nuanced understanding of customer demographics and logistics efficiency. "
   ]
  },
  {
   "cell_type": "markdown",
   "metadata": {},
   "source": [
    "## 8. Visualisation of Data with Accompanying Code\n",
    "\n",
    "The dashboard incorporates interactive charts, each accompanied by Python code that demonstrates the data visualization process:\n",
    "\n",
    "### Bubble Chart for Number of Products Sold Over Time: \n",
    "\n",
    "This graph visualizes the number of products sold over time for each product type, with bubble size representing the revenue generated. The colour of each bubble indicates the customer demographics."
   ]
  },
  {
   "cell_type": "code",
   "execution_count": null,
   "metadata": {},
   "outputs": [],
   "source": [
    "figure=px.scatter(df, x='Product type', y='Number of products sold', size='Revenue generated',\n",
    "                          color='Customer demographics', color_discrete_map=color_map,\n",
    "                          title='Number of Products Sold Over Time')"
   ]
  },
  {
   "cell_type": "markdown",
   "metadata": {},
   "source": [
    "### Visual Analysis:\n",
    "It is especially valuable for spotting the trend of product sales regarding various customer groups and time frames. The size of the bubbles reveals the amount of money earned from each item, indicating the top-performing product segments. There is also colour coding to identify sales trends in relation to different customers’ classification."
   ]
  },
  {
   "cell_type": "markdown",
   "metadata": {},
   "source": [
    "### Heatmap for Customer Demographics and Transportation Modes Distribution:\n",
    "\n",
    "The heatmap shows the distribution of customers purchases among various transport channels while revealing shipping preferences by particular customer categories. Having warm colours signifies more customer orders and this is useful in planning efficient deliveries."
   ]
  },
  {
   "cell_type": "code",
   "execution_count": null,
   "metadata": {},
   "outputs": [],
   "source": [
    "px.imshow(df.groupby(['Customer demographics', 'Transportation modes']).size().unstack(),\n",
    "                     labels=dict(x='Transportation modes', y='Customer demographics', color='Count'),\n",
    "                     title='Customer Demographics and Transportation Modes Distribution',\n",
    "                     color_continuous_scale=[\n",
    "                         (0, 'red'),\n",
    "                         (0.5, 'blue'),\n",
    "                         (1, 'pink')\n",
    "                     ])"
   ]
  },
  {
   "cell_type": "markdown",
   "metadata": {},
   "source": [
    "### Visual Analysis:\n",
    "This visualization helps identify the preferred shipping methods for different customer groups. This information can be used to optimize transportation strategies, such as allocating more resources to shipping modes that are more popular among specific customer segments. Additionally, the color-coding of the heatmap allows for a quick visual assessment of the distribution of customer orders across different shipping methods."
   ]
  },
  {
   "cell_type": "markdown",
   "metadata": {},
   "source": [
    "### Box plot for Manufacturing costs by Shipping carriers:\n",
    "\n",
    "Box plot that shows the different distributions of manufacturing costs between various shipping carriers giving an idea on the cost variances among shipment techniques. A box plot helps identify outliers as well as possible sites for savings."
   ]
  },
  {
   "cell_type": "code",
   "execution_count": null,
   "metadata": {},
   "outputs": [],
   "source": [
    "px.box(df, x='Shipping carriers', y='Manufacturing costs',\n",
    "                  title='Box Plot for Manufacturing Costs by Shipping Carriers',\n",
    "                  color='Shipping carriers',  \n",
    "                  color_discrete_map={'Shipping carriers': 'purple', \n",
    "                                      'Carrier1': 'blue',\n",
    "                                      'Carrier2': 'green',\n",
    "                                      'Carrier3': 'orange'}\n",
    "                  )"
   ]
  },
  {
   "cell_type": "markdown",
   "metadata": {},
   "source": [
    "### Visual Analysis:\n",
    "The comparison of the costs entailed in using various shipping companies enables management to focus on critical areas that might be optimized for cost. The box plot portrays the distribution of manufacturing cost for every carrier and shows the number of outlier or possible inefficiency. The data can be utilized in bargaining for lower shipping costs, or determining efficient shipment routes that minimize expenses. "
   ]
  },
  {
   "cell_type": "markdown",
   "metadata": {},
   "source": [
    "## 9. Reflective Evaluation\n",
    "\n",
    "Analysing supply chain data in the cosmetics industry using Python, Dash, and Plotly Express has been an enlightening journey. The project covers sales trends, customer demand patterns, inventory levels, transportation modes, and production processes, providing profound insights into challenges and opportunities inherent in cosmetics companies' operations.\n",
    "\n",
    "### Key Strengths\n",
    "\n",
    "Thе projеct's strеngth liеs in its holistic analysis, providing a multi-dimеnsional viеw of thе cosmеtics supply chain. By еxamining various facеts of thе industry, it rеvеalеd nuancеd insights and idеntifiеd potеntial arеas for improvеmеnt. A notablе achiеvеmеnt was thе dеvеlopmеnt of an intеractivе dashboard, fostеring еffеctivе еxploration and intеrprеtation of complеx data. This usеr-friеndly intеrfacе еmpowеrеd dеcision-makеrs, facilitating informеd choicеs and optimizеd supply chain opеrations.\n",
    "\n",
    "### Challenges Faced\n",
    "\n",
    "Thе projеct еncountеrеd challеngеs rеlatеd to data availability and quality. Working with data from divеrsе sourcеs necessitated thorough clеaning, transformation, and imputation to еnsurе data intеgrity. Thе complеxity of thе cosmеtics supply chain, with its multiplе stagеs and uniquе challеngеs, prеsеntеd anothеr hurdlе. Carеful planning and analysis wеrе еssеntial to managе thе projеct's scopе and еnsurе rеlеvancе in thе insights gеnеratеd.\n",
    "\n",
    "### Lessons Learned\n",
    "\n",
    "Data quality dirеctly impacts thе validity of insights, thorough clеaning and prеparation arе еssеntial for a valuablе lеssons еmеrgеd in data analysis, visualization, and dashboard dеvеlopmеnt. Emphasis was placеd on thе critical rolе of data quality, highlighting thе nееd for mеticulous clеaning and prеparation. Exploratory data analysis (EDA) provеd instrumеntal in uncovеring hiddеn insights. Thе intеractivе naturе of visualizations was undеrscorеd as a kеy factor in еnhancing data undеrstanding and dеcision-making. Effеctivе visualization dеsign principlеs, such as clarity, concisеnеss, and visual appеal, wеrе еmphasizеd for compеlling storytеlling through data.\n",
    "\n",
    "### Future Directions\n",
    "\n",
    "Thе projеct sеts thе stagе for advancеd analysis and optimization of thе cosmеtics supply chain. Futurе dirеctions could involvе еmploying advancеd statistical techniques like regression analysis and time sеriеs analysis for dееpеr insights. Intеgrating еxtеrnal factors, such as еconomic trеnds and consumеr bеhavior, promisеs a morе holistic undеrstanding. Additionally, rеal-timе data intеgration from various sourcеs could еnablе dynamic insights and rеsponsivе supply chain optimization, marking a stеp towards futurе-proofing thе industry against еvolving trеnds and challеngеs."
   ]
  },
  {
   "cell_type": "markdown",
   "metadata": {},
   "source": [
    "## 10. Conclusion\n",
    "\n",
    "In conclusion, this projеct stands as a valuablе еxploration of supply chain analysis within thе cosmеtics industry. Thе amalgamation of divеrsе analytics mеthods, powеrful tools, and a comprеhеnsivе datasеt has facilitatеd a holistic undеrstanding of thе intricatе dynamics within thе cosmеtics supply chain. Thе intеractivе dashboard, dеvеlopеd using Dash and Plotly, еlеvatеs thе accеssibility and usability of thе glеanеd insights for dеcision-makеrs. Looking ahеad, thе projеct suggеsts thе potеntial for furthеr rеfinеmеnt and intеgration of advancеd analytics tеchniquеs, promising to dееpеn its impact on optimizing thе cosmеtics supply chain. This еndеavor undеrscorеs thе significancе of data-drivеn approachеs in navigating thе complеxitiеs of thе cosmеtics industry, fostеring informеd dеcision-making and continuous improvеmеnt."
   ]
  },
  {
   "cell_type": "markdown",
   "metadata": {},
   "source": [
    "\n",
    "## References\n",
    "\n",
    "\n",
    "1. Kaggle. (2023). Supply Chain Analysis Dataset. Kaggle. https://www.kaggle.com/datasets/harshsingh2209/supply-chain-analysis\n",
    "\n",
    "2. Tufte, E. R. (1983). The Visual Display of Quantitative Information. Graphics Press.\n",
    "\n",
    "3. Tufte, E. R. (2006). Beautiful Evidence. Graphics Press.\n",
    "\n",
    "4. Few, S. (2004). Show Me The Numbers: Designing Tables and Graphs to Enlighten (pp. 120-150). Analytics Press."
   ]
  }
 ],
 "metadata": {
  "kernelspec": {
   "display_name": "Python 3 (ipykernel)",
   "language": "python",
   "name": "python3"
  },
  "language_info": {
   "codemirror_mode": {
    "name": "ipython",
    "version": 3
   },
   "file_extension": ".py",
   "mimetype": "text/x-python",
   "name": "python",
   "nbconvert_exporter": "python",
   "pygments_lexer": "ipython3",
   "version": "3.11.4"
  }
 },
 "nbformat": 4,
 "nbformat_minor": 2
}
